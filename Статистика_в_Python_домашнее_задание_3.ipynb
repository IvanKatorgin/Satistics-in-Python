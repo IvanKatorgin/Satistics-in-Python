{
  "cells": [
    {
      "cell_type": "markdown",
      "metadata": {
        "id": "view-in-github",
        "colab_type": "text"
      },
      "source": [
        "<a href=\"https://colab.research.google.com/github/IvanKatorgin/Satistics-in-Python/blob/main/%D0%A1%D1%82%D0%B0%D1%82%D0%B8%D1%81%D1%82%D0%B8%D0%BA%D0%B0_%D0%B2_Python_%D0%B4%D0%BE%D0%BC%D0%B0%D1%88%D0%BD%D0%B5%D0%B5_%D0%B7%D0%B0%D0%B4%D0%B0%D0%BD%D0%B8%D0%B5_3.ipynb\" target=\"_parent\"><img src=\"https://colab.research.google.com/assets/colab-badge.svg\" alt=\"Open In Colab\"/></a>"
      ]
    },
    {
      "cell_type": "markdown",
      "metadata": {
        "id": "YwwsvrnrGZv7"
      },
      "source": [
        " ## Домашнее задание Проверка гипотез. Каторгин И.П."
      ]
    },
    {
      "cell_type": "code",
      "source": [
        "import numpy as np, scipy.stats as st, pandas as pd, math, matplotlib.pyplot as plt"
      ],
      "metadata": {
        "id": "9GcFoW__04uF"
      },
      "execution_count": null,
      "outputs": []
    },
    {
      "cell_type": "markdown",
      "metadata": {
        "id": "FOsgMF44GZv8"
      },
      "source": [
        "<div class=\"alert alert-info\">\n",
        "<b>Задание № 1</b>\n",
        "    \n",
        "Разработайте функцию для проверки нормальности распределения выборки данных, используя шаблон ниже. Вы можете использовать один из известных Вам статистических тестов.\n",
        "</div>"
      ]
    },
    {
      "cell_type": "code",
      "execution_count": null,
      "metadata": {
        "id": "M2tSYeV9GZv9",
        "colab": {
          "base_uri": "https://localhost:8080/",
          "height": 103
        },
        "outputId": "25ab0fc5-f9a1-4415-d58e-7888914b666a"
      },
      "outputs": [
        {
          "output_type": "execute_result",
          "data": {
            "text/plain": [
              "<function __main__.check_normality(data)>"
            ],
            "text/html": [
              "<div style=\"max-width:800px; border: 1px solid var(--colab-border-color);\"><style>\n",
              "      pre.function-repr-contents {\n",
              "        overflow-x: auto;\n",
              "        padding: 8px 12px;\n",
              "        max-height: 500px;\n",
              "      }\n",
              "\n",
              "      pre.function-repr-contents.function-repr-contents-collapsed {\n",
              "        cursor: pointer;\n",
              "        max-height: 100px;\n",
              "      }\n",
              "    </style>\n",
              "    <pre style=\"white-space: initial; background:\n",
              "         var(--colab-secondary-surface-color); padding: 8px 12px;\n",
              "         border-bottom: 1px solid var(--colab-border-color);\"><b>check_normality</b><br/>def check_normality(data)</pre><pre class=\"function-repr-contents function-repr-contents-collapsed\" style=\"\"><a class=\"filepath\" style=\"display:none\" href=\"#\">/content/&lt;ipython-input-2-63dc1ed3c2ec&gt;</a>&lt;no docstring&gt;</pre></div>"
            ]
          },
          "metadata": {},
          "execution_count": 2
        }
      ],
      "source": [
        "def check_normality(data):\n",
        "  stat, p = st.shapiro(data) # тест Шапиро-Уилк\n",
        "\n",
        "  alpha = 0.05\n",
        "\n",
        "  if p < alpha: # условие статистической значимости\n",
        "    print('Statistics=%.5f, p-value=%.5f' % (stat, p))\n",
        "    print(\"Отклоняем нулевую гипотезу >> Данные распределены не нормально\")\n",
        "  else:\n",
        "    print('Statistics=%.5f, p-value=%.5f' % (stat, p))\n",
        "    print(\"Не отклоняем нулевую гипотезу >> Данные распределены нормально\")\n",
        "\n",
        "  return\n",
        "\n",
        "check_normality"
      ]
    },
    {
      "cell_type": "code",
      "source": [
        "def check_normality_(data):\n",
        "  stat, p = st.normaltest(data) # Критерий Пирсона\n",
        "\n",
        "  alpha = 0.05\n",
        "\n",
        "  if p < alpha: # условие статистической значимости\n",
        "    print('Statistics=%.5f, p-value=%.5f' % (stat, p))\n",
        "    print(\"Отклоняем нулевую гипотезу >> Данные распределены не нормально\")\n",
        "  else:\n",
        "    print('Statistics=%.5f, p-value=%.5f' % (stat, p))\n",
        "    print(\"Не отклоняем нулевую гипотезу >> Данные распределены нормально\")\n",
        "\n",
        "  return\n",
        "\n",
        "check_normality_"
      ],
      "metadata": {
        "colab": {
          "base_uri": "https://localhost:8080/",
          "height": 103
        },
        "id": "tshhBTLDH9Ad",
        "outputId": "2bb971dd-6a84-47dc-b3e6-a68a13b62f20"
      },
      "execution_count": null,
      "outputs": [
        {
          "output_type": "execute_result",
          "data": {
            "text/plain": [
              "<function __main__.check_normality_(data)>"
            ],
            "text/html": [
              "<div style=\"max-width:800px; border: 1px solid var(--colab-border-color);\"><style>\n",
              "      pre.function-repr-contents {\n",
              "        overflow-x: auto;\n",
              "        padding: 8px 12px;\n",
              "        max-height: 500px;\n",
              "      }\n",
              "\n",
              "      pre.function-repr-contents.function-repr-contents-collapsed {\n",
              "        cursor: pointer;\n",
              "        max-height: 100px;\n",
              "      }\n",
              "    </style>\n",
              "    <pre style=\"white-space: initial; background:\n",
              "         var(--colab-secondary-surface-color); padding: 8px 12px;\n",
              "         border-bottom: 1px solid var(--colab-border-color);\"><b>check_normality_</b><br/>def check_normality_(data)</pre><pre class=\"function-repr-contents function-repr-contents-collapsed\" style=\"\"><a class=\"filepath\" style=\"display:none\" href=\"#\">/content/&lt;ipython-input-3-e14e81b7f431&gt;</a>&lt;no docstring&gt;</pre></div>"
            ]
          },
          "metadata": {},
          "execution_count": 3
        }
      ]
    },
    {
      "cell_type": "markdown",
      "metadata": {
        "id": "AseiCYEmGZv-"
      },
      "source": [
        "<div class=\"alert alert-info\">\n",
        "<b>Задание № 2</b>\n",
        "\n",
        "Даны две выборки роста мужчин и женщин.\n",
        "- Докажите, используя `t-Тест Стьдента`, что различие между выборками незначительно, если уровень значимости равен $\\alpha$ `= 0.001`.\n",
        "- Покажите различия визуально\n",
        "- Является ли результат полезным с практической точки зрения? Почему да или нет?\n",
        "</div>"
      ]
    },
    {
      "cell_type": "code",
      "execution_count": null,
      "metadata": {
        "id": "7e39zGu1GZv-"
      },
      "outputs": [],
      "source": [
        "np.random.seed(42) #фиксация случайности\n",
        "\n",
        "mens  = st.norm.rvs(loc=171, scale=10, size=150000)  # Выборка мужчин со средним ростом 171\n",
        "womens = st.norm.rvs(loc=170, scale=10, size=150000)  # Выборка женщин со средним ростом 170"
      ]
    },
    {
      "cell_type": "markdown",
      "source": [
        "Используем t-тест Уэлча\n",
        "\n",
        "Сначала проверяем отклонение. Перед фактическим проведением t-теста Уэлча нам нужно выяснить, имеют ли данные группы данных одинаковую дисперсию. Если отношение больших групп данных к небольшой группе данных больше 4: 1, то мы можем считать, что данные группы данных имеют неодинаковую дисперсию."
      ],
      "metadata": {
        "id": "hiemm9GpdNnN"
      }
    },
    {
      "cell_type": "code",
      "source": [
        "print(np.var(mens), np.var(womens))"
      ],
      "metadata": {
        "colab": {
          "base_uri": "https://localhost:8080/"
        },
        "id": "TLC9oFNqeBG2",
        "outputId": "d6df2cd9-ccd3-4e73-b830-664493ecef7e"
      },
      "execution_count": null,
      "outputs": [
        {
          "output_type": "stream",
          "name": "stdout",
          "text": [
            "100.09141335994141 99.86609661356039\n"
          ]
        }
      ]
    },
    {
      "cell_type": "markdown",
      "source": [
        "Можем считать, что данные группы имеют одинаковую дисперсию"
      ],
      "metadata": {
        "id": "1GeEJby3egUe"
      }
    },
    {
      "cell_type": "code",
      "source": [
        "# t-тест Уэлча\n",
        "stat, p = st.ttest_ind(mens, womens, equal_var = False)\n",
        "\n",
        "print(f\"Статистика = {stat:.5f}, p = {p:.5f}\")\n",
        "\n",
        "if p > 0.001:\n",
        "    print('Не отклоняем нулевую гипотезу, различие между выборками незначительно')\n",
        "else:\n",
        "    print('Отклоняем нулевую гипотезу, выборки, вероятно, различаются')"
      ],
      "metadata": {
        "colab": {
          "base_uri": "https://localhost:8080/"
        },
        "id": "PA9s24JIcIsE",
        "outputId": "75c9cd4d-a5e5-47ff-b266-a366dceffd9c"
      },
      "execution_count": null,
      "outputs": [
        {
          "output_type": "stream",
          "name": "stdout",
          "text": [
            "Статистика = 28.31364, p = 0.00000\n",
            "Отклоняем нулевую гипотезу, выборки, вероятно, различаются\n"
          ]
        }
      ]
    },
    {
      "cell_type": "markdown",
      "source": [
        "Статистика теста оказывается равной 28,31364, а соответствующее p-значение равно 0,00000. Здесь значение p меньше 0,001, следовательно, на основании t-теста Уэлча мы могли бы отклонить нулевую гипотезу теста и сделать вывод о том, что разница между выборками mens и womens довольно значительна. Далее построим гистограммы и посмотрим графически на распределения"
      ],
      "metadata": {
        "id": "ytQvWutveyFz"
      }
    },
    {
      "cell_type": "code",
      "source": [
        "plt.hist(mens, bins=100, label = 'mens'); # мужчины\n",
        "plt.hist(womens, bins=100, label = 'womens');  # женщины\n",
        "plt.legend()"
      ],
      "metadata": {
        "colab": {
          "base_uri": "https://localhost:8080/",
          "height": 447
        },
        "id": "fuFdsK995-zF",
        "outputId": "cc0f8051-b359-4876-e2d0-1f43ed74ef6b"
      },
      "execution_count": null,
      "outputs": [
        {
          "output_type": "execute_result",
          "data": {
            "text/plain": [
              "<matplotlib.legend.Legend at 0x7ca49417d540>"
            ]
          },
          "metadata": {},
          "execution_count": 7
        },
        {
          "output_type": "display_data",
          "data": {
            "text/plain": [
              "<Figure size 640x480 with 1 Axes>"
            ],
            "image/png": "[encoded data removed]"
          },
          "metadata": {}
        }
      ]
    },
    {
      "cell_type": "code",
      "source": [
        "boxprops = dict(linestyle='--', linewidth=2, color='green')\n",
        "flierprops = dict(marker='o', markerfacecolor='green', markersize=6, linestyle='none')\n",
        "plt.boxplot(mens, boxprops=boxprops, flierprops=flierprops)\n",
        "\n",
        "boxprops_ = dict(linestyle='-', linewidth=2, color='yellow')\n",
        "flierprops_ = dict(marker='o', markerfacecolor='yellow', markersize=6, linestyle='none')\n",
        "plt.boxplot(womens, boxprops=boxprops_, flierprops=flierprops_)"
      ],
      "metadata": {
        "colab": {
          "base_uri": "https://localhost:8080/",
          "height": 570
        },
        "id": "9387AGIA-wVQ",
        "outputId": "88336146-78b2-4444-c04c-770863e7d8b5"
      },
      "execution_count": null,
      "outputs": [
        {
          "output_type": "execute_result",
          "data": {
            "text/plain": [
              "{'whiskers': [<matplotlib.lines.Line2D at 0x7ca45419b2b0>,\n",
              "  <matplotlib.lines.Line2D at 0x7ca45419b550>],\n",
              " 'caps': [<matplotlib.lines.Line2D at 0x7ca45419b7f0>,\n",
              "  <matplotlib.lines.Line2D at 0x7ca45419ba90>],\n",
              " 'boxes': [<matplotlib.lines.Line2D at 0x7ca45419b010>],\n",
              " 'medians': [<matplotlib.lines.Line2D at 0x7ca45419bd30>],\n",
              " 'fliers': [<matplotlib.lines.Line2D at 0x7ca45419bfd0>],\n",
              " 'means': []}"
            ]
          },
          "metadata": {},
          "execution_count": 8
        },
        {
          "output_type": "display_data",
          "data": {
            "text/plain": [
              "<Figure size 640x480 with 1 Axes>"
            ],
            "image/png": "[encoded data removed]"
          },
          "metadata": {}
        }
      ]
    },
    {
      "cell_type": "code",
      "source": [
        "mens_womens_df = pd.DataFrame({\"mens\":mens,\n",
        "                         \"womens\":womens,\n",
        "                         \"change\":mens-womens})\n",
        "mens_womens_df.describe()"
      ],
      "metadata": {
        "colab": {
          "base_uri": "https://localhost:8080/",
          "height": 300
        },
        "id": "xnoljibJ-6gm",
        "outputId": "71f1af94-10af-451b-a8e0-a3519c3594f3"
      },
      "execution_count": null,
      "outputs": [
        {
          "output_type": "execute_result",
          "data": {
            "text/plain": [
              "                mens         womens         change\n",
              "count  150000.000000  150000.000000  150000.000000\n",
              "mean      171.018346     169.984585       1.033761\n",
              "std        10.004603       9.993336      14.135610\n",
              "min       126.343961     125.861140     -62.034758\n",
              "25%       164.264300     163.250246      -8.496910\n",
              "50%       171.028935     169.973314       1.022373\n",
              "75%       177.773002     176.720134      10.560462\n",
              "max       216.621147     212.193663      62.592418"
            ],
            "text/html": [
              "\n",
              "  <div id=\"df-66887d64-9491-40e3-9c03-7b1b1069cd1f\" class=\"colab-df-container\">\n",
              "    <div>\n",
              "<style scoped>\n",
              "    .dataframe tbody tr th:only-of-type {\n",
              "        vertical-align: middle;\n",
              "    }\n",
              "\n",
              "    .dataframe tbody tr th {\n",
              "        vertical-align: top;\n",
              "    }\n",
              "\n",
              "    .dataframe thead th {\n",
              "        text-align: right;\n",
              "    }\n",
              "</style>\n",
              "<table border=\"1\" class=\"dataframe\">\n",
              "  <thead>\n",
              "    <tr style=\"text-align: right;\">\n",
              "      <th></th>\n",
              "      <th>mens</th>\n",
              "      <th>womens</th>\n",
              "      <th>change</th>\n",
              "    </tr>\n",
              "  </thead>\n",
              "  <tbody>\n",
              "    <tr>\n",
              "      <th>count</th>\n",
              "      <td>150000.000000</td>\n",
              "      <td>150000.000000</td>\n",
              "      <td>150000.000000</td>\n",
              "    </tr>\n",
              "    <tr>\n",
              "      <th>mean</th>\n",
              "      <td>171.018346</td>\n",
              "      <td>169.984585</td>\n",
              "      <td>1.033761</td>\n",
              "    </tr>\n",
              "    <tr>\n",
              "      <th>std</th>\n",
              "      <td>10.004603</td>\n",
              "      <td>9.993336</td>\n",
              "      <td>14.135610</td>\n",
              "    </tr>\n",
              "    <tr>\n",
              "      <th>min</th>\n",
              "      <td>126.343961</td>\n",
              "      <td>125.861140</td>\n",
              "      <td>-62.034758</td>\n",
              "    </tr>\n",
              "    <tr>\n",
              "      <th>25%</th>\n",
              "      <td>164.264300</td>\n",
              "      <td>163.250246</td>\n",
              "      <td>-8.496910</td>\n",
              "    </tr>\n",
              "    <tr>\n",
              "      <th>50%</th>\n",
              "      <td>171.028935</td>\n",
              "      <td>169.973314</td>\n",
              "      <td>1.022373</td>\n",
              "    </tr>\n",
              "    <tr>\n",
              "      <th>75%</th>\n",
              "      <td>177.773002</td>\n",
              "      <td>176.720134</td>\n",
              "      <td>10.560462</td>\n",
              "    </tr>\n",
              "    <tr>\n",
              "      <th>max</th>\n",
              "      <td>216.621147</td>\n",
              "      <td>212.193663</td>\n",
              "      <td>62.592418</td>\n",
              "    </tr>\n",
              "  </tbody>\n",
              "</table>\n",
              "</div>\n",
              "    <div class=\"colab-df-buttons\">\n",
              "\n",
              "  <div class=\"colab-df-container\">\n",
              "    <button class=\"colab-df-convert\" onclick=\"convertToInteractive('df-66887d64-9491-40e3-9c03-7b1b1069cd1f')\"\n",
              "            title=\"Convert this dataframe to an interactive table.\"\n",
              "            style=\"display:none;\">\n",
              "\n",
              "  <svg xmlns=\"http://www.w3.org/2000/svg\" height=\"24px\" viewBox=\"0 -960 960 960\">\n",
              "    <path d=\"M120-120v-720h720v720H120Zm60-500h600v-160H180v160Zm220 220h160v-160H400v160Zm0 220h160v-160H400v160ZM180-400h160v-160H180v160Zm440 0h160v-160H620v160ZM180-180h160v-160H180v160Zm440 0h160v-160H620v160Z\"/>\n",
              "  </svg>\n",
              "    </button>\n",
              "\n",
              "  <style>\n",
              "    .colab-df-container {\n",
              "      display:flex;\n",
              "      gap: 12px;\n",
              "    }\n",
              "\n",
              "    .colab-df-convert {\n",
              "      background-color: #E8F0FE;\n",
              "      border: none;\n",
              "      border-radius: 50%;\n",
              "      cursor: pointer;\n",
              "      display: none;\n",
              "      fill: #1967D2;\n",
              "      height: 32px;\n",
              "      padding: 0 0 0 0;\n",
              "      width: 32px;\n",
              "    }\n",
              "\n",
              "    .colab-df-convert:hover {\n",
              "      background-color: #E2EBFA;\n",
              "      box-shadow: 0px 1px 2px rgba(60, 64, 67, 0.3), 0px 1px 3px 1px rgba(60, 64, 67, 0.15);\n",
              "      fill: #174EA6;\n",
              "    }\n",
              "\n",
              "    .colab-df-buttons div {\n",
              "      margin-bottom: 4px;\n",
              "    }\n",
              "\n",
              "    [theme=dark] .colab-df-convert {\n",
              "      background-color: #3B4455;\n",
              "      fill: #D2E3FC;\n",
              "    }\n",
              "\n",
              "    [theme=dark] .colab-df-convert:hover {\n",
              "      background-color: #434B5C;\n",
              "      box-shadow: 0px 1px 3px 1px rgba(0, 0, 0, 0.15);\n",
              "      filter: drop-shadow(0px 1px 2px rgba(0, 0, 0, 0.3));\n",
              "      fill: #FFFFFF;\n",
              "    }\n",
              "  </style>\n",
              "\n",
              "    <script>\n",
              "      const buttonEl =\n",
              "        document.querySelector('#df-66887d64-9491-40e3-9c03-7b1b1069cd1f button.colab-df-convert');\n",
              "      buttonEl.style.display =\n",
              "        google.colab.kernel.accessAllowed ? 'block' : 'none';\n",
              "\n",
              "      async function convertToInteractive(key) {\n",
              "        const element = document.querySelector('#df-66887d64-9491-40e3-9c03-7b1b1069cd1f');\n",
              "        const dataTable =\n",
              "          await google.colab.kernel.invokeFunction('convertToInteractive',\n",
              "                                                    [key], {});\n",
              "        if (!dataTable) return;\n",
              "\n",
              "        const docLinkHtml = 'Like what you see? Visit the ' +\n",
              "          '<a target=\"_blank\" href=https://colab.research.google.com/notebooks/data_table.ipynb>data table notebook</a>'\n",
              "          + ' to learn more about interactive tables.';\n",
              "        element.innerHTML = '';\n",
              "        dataTable['output_type'] = 'display_data';\n",
              "        await google.colab.output.renderOutput(dataTable, element);\n",
              "        const docLink = document.createElement('div');\n",
              "        docLink.innerHTML = docLinkHtml;\n",
              "        element.appendChild(docLink);\n",
              "      }\n",
              "    </script>\n",
              "  </div>\n",
              "\n",
              "\n",
              "<div id=\"df-724abf91-81f6-4fa8-ac16-707a1ce2f1fe\">\n",
              "  <button class=\"colab-df-quickchart\" onclick=\"quickchart('df-724abf91-81f6-4fa8-ac16-707a1ce2f1fe')\"\n",
              "            title=\"Suggest charts\"\n",
              "            style=\"display:none;\">\n",
              "\n",
              "<svg xmlns=\"http://www.w3.org/2000/svg\" height=\"24px\"viewBox=\"0 0 24 24\"\n",
              "     width=\"24px\">\n",
              "    <g>\n",
              "        <path d=\"M19 3H5c-1.1 0-2 .9-2 2v14c0 1.1.9 2 2 2h14c1.1 0 2-.9 2-2V5c0-1.1-.9-2-2-2zM9 17H7v-7h2v7zm4 0h-2V7h2v10zm4 0h-2v-4h2v4z\"/>\n",
              "    </g>\n",
              "</svg>\n",
              "  </button>\n",
              "\n",
              "<style>\n",
              "  .colab-df-quickchart {\n",
              "      --bg-color: #E8F0FE;\n",
              "      --fill-color: #1967D2;\n",
              "      --hover-bg-color: #E2EBFA;\n",
              "      --hover-fill-color: #174EA6;\n",
              "      --disabled-fill-color: #AAA;\n",
              "      --disabled-bg-color: #DDD;\n",
              "  }\n",
              "\n",
              "  [theme=dark] .colab-df-quickchart {\n",
              "      --bg-color: #3B4455;\n",
              "      --fill-color: #D2E3FC;\n",
              "      --hover-bg-color: #434B5C;\n",
              "      --hover-fill-color: #FFFFFF;\n",
              "      --disabled-bg-color: #3B4455;\n",
              "      --disabled-fill-color: #666;\n",
              "  }\n",
              "\n",
              "  .colab-df-quickchart {\n",
              "    background-color: var(--bg-color);\n",
              "    border: none;\n",
              "    border-radius: 50%;\n",
              "    cursor: pointer;\n",
              "    display: none;\n",
              "    fill: var(--fill-color);\n",
              "    height: 32px;\n",
              "    padding: 0;\n",
              "    width: 32px;\n",
              "  }\n",
              "\n",
              "  .colab-df-quickchart:hover {\n",
              "    background-color: var(--hover-bg-color);\n",
              "    box-shadow: 0 1px 2px rgba(60, 64, 67, 0.3), 0 1px 3px 1px rgba(60, 64, 67, 0.15);\n",
              "    fill: var(--button-hover-fill-color);\n",
              "  }\n",
              "\n",
              "  .colab-df-quickchart-complete:disabled,\n",
              "  .colab-df-quickchart-complete:disabled:hover {\n",
              "    background-color: var(--disabled-bg-color);\n",
              "    fill: var(--disabled-fill-color);\n",
              "    box-shadow: none;\n",
              "  }\n",
              "\n",
              "  .colab-df-spinner {\n",
              "    border: 2px solid var(--fill-color);\n",
              "    border-color: transparent;\n",
              "    border-bottom-color: var(--fill-color);\n",
              "    animation:\n",
              "      spin 1s steps(1) infinite;\n",
              "  }\n",
              "\n",
              "  @keyframes spin {\n",
              "    0% {\n",
              "      border-color: transparent;\n",
              "      border-bottom-color: var(--fill-color);\n",
              "      border-left-color: var(--fill-color);\n",
              "    }\n",
              "    20% {\n",
              "      border-color: transparent;\n",
              "      border-left-color: var(--fill-color);\n",
              "      border-top-color: var(--fill-color);\n",
              "    }\n",
              "    30% {\n",
              "      border-color: transparent;\n",
              "      border-left-color: var(--fill-color);\n",
              "      border-top-color: var(--fill-color);\n",
              "      border-right-color: var(--fill-color);\n",
              "    }\n",
              "    40% {\n",
              "      border-color: transparent;\n",
              "      border-right-color: var(--fill-color);\n",
              "      border-top-color: var(--fill-color);\n",
              "    }\n",
              "    60% {\n",
              "      border-color: transparent;\n",
              "      border-right-color: var(--fill-color);\n",
              "    }\n",
              "    80% {\n",
              "      border-color: transparent;\n",
              "      border-right-color: var(--fill-color);\n",
              "      border-bottom-color: var(--fill-color);\n",
              "    }\n",
              "    90% {\n",
              "      border-color: transparent;\n",
              "      border-bottom-color: var(--fill-color);\n",
              "    }\n",
              "  }\n",
              "</style>\n",
              "\n",
              "  <script>\n",
              "    async function quickchart(key) {\n",
              "      const quickchartButtonEl =\n",
              "        document.querySelector('#' + key + ' button');\n",
              "      quickchartButtonEl.disabled = true;  // To prevent multiple clicks.\n",
              "      quickchartButtonEl.classList.add('colab-df-spinner');\n",
              "      try {\n",
              "        const charts = await google.colab.kernel.invokeFunction(\n",
              "            'suggestCharts', [key], {});\n",
              "      } catch (error) {\n",
              "        console.error('Error during call to suggestCharts:', error);\n",
              "      }\n",
              "      quickchartButtonEl.classList.remove('colab-df-spinner');\n",
              "      quickchartButtonEl.classList.add('colab-df-quickchart-complete');\n",
              "    }\n",
              "    (() => {\n",
              "      let quickchartButtonEl =\n",
              "        document.querySelector('#df-724abf91-81f6-4fa8-ac16-707a1ce2f1fe button');\n",
              "      quickchartButtonEl.style.display =\n",
              "        google.colab.kernel.accessAllowed ? 'block' : 'none';\n",
              "    })();\n",
              "  </script>\n",
              "</div>\n",
              "    </div>\n",
              "  </div>\n"
            ],
            "application/vnd.google.colaboratory.intrinsic+json": {
              "type": "dataframe",
              "summary": "{\n  \"name\": \"mens_womens_df\",\n  \"rows\": 8,\n  \"fields\": [\n    {\n      \"column\": \"mens\",\n      \"properties\": {\n        \"dtype\": \"number\",\n        \"std\": 52980.665072322445,\n        \"min\": 10.004602972656087,\n        \"max\": 150000.0,\n        \"num_unique_values\": 8,\n        \"samples\": [\n          171.01834593701406,\n          171.0289350931912,\n          150000.0\n        ],\n        \"semantic_type\": \"\",\n        \"description\": \"\"\n      }\n    },\n    {\n      \"column\": \"womens\",\n      \"properties\": {\n        \"dtype\": \"number\",\n        \"std\": 52981.12254886382,\n        \"min\": 9.993335899086768,\n        \"max\": 150000.0,\n        \"num_unique_values\": 8,\n        \"samples\": [\n          169.98458452269782,\n          169.97331392237226,\n          150000.0\n        ],\n        \"semantic_type\": \"\",\n        \"description\": \"\"\n      }\n    },\n    {\n      \"column\": \"change\",\n      \"properties\": {\n        \"dtype\": \"number\",\n        \"std\": 53032.06930267316,\n        \"min\": -62.03475813384378,\n        \"max\": 150000.0,\n        \"num_unique_values\": 8,\n        \"samples\": [\n          1.0337614143162033,\n          1.0223733104071897,\n          150000.0\n        ],\n        \"semantic_type\": \"\",\n        \"description\": \"\"\n      }\n    }\n  ]\n}"
            }
          },
          "metadata": {},
          "execution_count": 9
        }
      ]
    },
    {
      "cell_type": "markdown",
      "source": [
        "Выводы:\n",
        "\n",
        "Результат может быть полезным, например для производства и пошива одежды унисекс, которую могут носить оба пола - мужчины и женщины. Результаты показывают, что выборки все-таки отличаются"
      ],
      "metadata": {
        "id": "8NOMiPzB6617"
      }
    },
    {
      "cell_type": "markdown",
      "metadata": {
        "id": "pJYWS2hsGZwA"
      },
      "source": [
        "<div class=\"alert alert-info\">\n",
        "<b>Задание № 3</b>\n",
        "\n",
        "Специалист по кадрам, работающий в технологической компании, интересуется сверхурочным временем разных команд. Чтобы выяснить, есть ли разница между сверхурочной работой команды разработчиков программного обеспечения и группы тестирования, она случайным образом выбрала 17 сотрудников в каждой из двух команд и записала их среднее сверхурочное время за неделю в пересчете на час. Данные ниже.\n",
        "\n",
        "В соответствии с этой информацией проведите проверку гипотезы, чтобы проверить, есть ли разница между переутомлением двух команд, используя уровень значимости 0,05. Прежде чем приступать к проверке гипотез, проверьте предположение нормальности.\n",
        "</div>"
      ]
    },
    {
      "cell_type": "code",
      "execution_count": null,
      "metadata": {
        "id": "4z72q2FzGZwA"
      },
      "outputs": [],
      "source": [
        "test_team = [6.2, 7.1, 1.5, 2,3 , 2, 1.5, 6.1, 2.4, 2.3, 12.4, 1.8, 5.3, 3.1, 9.4, 2.3, 4.1]\n",
        "developer_team = [2.3, 2.1, 1.4, 2.0, 8.7, 2.2, 3.1, 4.2, 3.6, 2.5, 3.1, 6.2, 12.1, 3.9, 2.2, 1.2 ,3.4]"
      ]
    },
    {
      "cell_type": "code",
      "execution_count": null,
      "metadata": {
        "colab": {
          "base_uri": "https://localhost:8080/",
          "height": 447
        },
        "id": "OeRER3ujzpRk",
        "outputId": "3f2ba6db-c024-4bc0-8d8d-101988e9505a"
      },
      "outputs": [
        {
          "output_type": "execute_result",
          "data": {
            "text/plain": [
              "<matplotlib.legend.Legend at 0x7ca45401f040>"
            ]
          },
          "metadata": {},
          "execution_count": 11
        },
        {
          "output_type": "display_data",
          "data": {
            "text/plain": [
              "<Figure size 640x480 with 1 Axes>"
            ],
            "image/png": "[encoded data removed]"
          },
          "metadata": {}
        }
      ],
      "source": [
        "# стоим гистограмму, чтобы увидеть распределение визуально\n",
        "\n",
        "plt.hist(test_team, bins=10, label = 'test_team'); # test_team\n",
        "plt.hist(developer_team, bins=10, label = 'developer_team');  # developer_team\n",
        "plt.legend()"
      ]
    },
    {
      "cell_type": "code",
      "source": [
        "# проверяем на нормальность с помошью функции из первого задания (тест Шапиро-Уилк)\n",
        "\n",
        "check_normality(test_team)\n",
        "\n",
        "check_normality(developer_team)"
      ],
      "metadata": {
        "colab": {
          "base_uri": "https://localhost:8080/"
        },
        "id": "bwp-vKUqMapB",
        "outputId": "6ddf8930-6023-4b14-a1c0-99c6d61cecb6"
      },
      "execution_count": null,
      "outputs": [
        {
          "output_type": "stream",
          "name": "stdout",
          "text": [
            "Statistics=0.82538, p-value=0.00462\n",
            "Отклоняем нулевую гипотезу >> Данные распределены не нормально\n",
            "Statistics=0.75274, p-value=0.00049\n",
            "Отклоняем нулевую гипотезу >> Данные распределены не нормально\n"
          ]
        }
      ]
    },
    {
      "cell_type": "code",
      "source": [
        "# проверяем на нормальность с помошью функции из первого задания (# Критерий Пирсона)\n",
        "\n",
        "check_normality_(test_team)\n",
        "\n",
        "check_normality_(developer_team)"
      ],
      "metadata": {
        "colab": {
          "base_uri": "https://localhost:8080/"
        },
        "id": "VDkFnCNQNPvD",
        "outputId": "8c136765-13dc-453a-ea98-efd4a8c56d82"
      },
      "execution_count": null,
      "outputs": [
        {
          "output_type": "stream",
          "name": "stdout",
          "text": [
            "Statistics=8.16613, p-value=0.01686\n",
            "Отклоняем нулевую гипотезу >> Данные распределены не нормально\n",
            "Statistics=17.06812, p-value=0.00020\n",
            "Отклоняем нулевую гипотезу >> Данные распределены не нормально\n"
          ]
        }
      ]
    },
    {
      "cell_type": "markdown",
      "source": [
        "Поверка на нормальность показала, что данные распределены не нормально, что также подтверждено визуально (гистограммой).\n",
        "\n",
        "Поскольку данные распределены не нормально, то для проверки гипотезы можно использовать тест Манна-Уитни"
      ],
      "metadata": {
        "id": "f3SplCdJNcxK"
      }
    },
    {
      "cell_type": "code",
      "source": [
        " # Тест Манна-Уитни\n",
        "\n",
        "stat, p = st.mannwhitneyu (test_team, developer_team, alternative='two-sided')\n",
        "\n",
        "print(f\"Статистика = {stat:.5f}, p = {p:.5f}\")\n",
        "\n",
        "if p > 0.05:\n",
        "    print('Не отклоняем нулевую гипотезу, разницы в переутомлении между командами нет')\n",
        "else:\n",
        "    print('Отклоняем нулевую гипотезу, выборки, вероятно, различаются')"
      ],
      "metadata": {
        "colab": {
          "base_uri": "https://localhost:8080/"
        },
        "id": "pU7yIS4RR_T7",
        "outputId": "cb78edc5-9e06-48ca-bde8-4b2795c536e1"
      },
      "execution_count": null,
      "outputs": [
        {
          "output_type": "stream",
          "name": "stdout",
          "text": [
            "Статистика = 151.50000, p = 0.82265\n",
            "Не отклоняем нулевую гипотезу, разницы в переутомлении между командами нет\n"
          ]
        }
      ]
    },
    {
      "cell_type": "markdown",
      "source": [
        "Преобразуем данные и после этого можно применять праметрические тесты (Т-тест Стьюдента)"
      ],
      "metadata": {
        "id": "TPPXG1qutGvS"
      }
    },
    {
      "cell_type": "code",
      "source": [
        "norm = sorted(np.log2(test_team)) # test_team\n",
        "norm_ = sorted(np.log2(developer_team)) # developer_team\n",
        "\n",
        "plt.hist(norm, bins=10, label = 'test_team'); # test_team\n",
        "plt.hist(norm_, bins=10, label = 'developer_team');  # developer_team\n",
        "plt.legend()"
      ],
      "metadata": {
        "colab": {
          "base_uri": "https://localhost:8080/",
          "height": 447
        },
        "id": "d6ljbAgdtMQh",
        "outputId": "5b66d0ae-1750-4ba1-bb9b-634e5f6f78dc"
      },
      "execution_count": null,
      "outputs": [
        {
          "output_type": "execute_result",
          "data": {
            "text/plain": [
              "<matplotlib.legend.Legend at 0x7ca453b76dd0>"
            ]
          },
          "metadata": {},
          "execution_count": 16
        },
        {
          "output_type": "display_data",
          "data": {
            "text/plain": [
              "<Figure size 640x480 with 1 Axes>"
            ],
            "image/png": "[encoded data removed]"
          },
          "metadata": {}
        }
      ]
    },
    {
      "cell_type": "code",
      "source": [
        "# Т-тест Стьюдента\n",
        "\n",
        "stat, p = st.ttest_ind(norm, norm_)\n",
        "\n",
        "print(f\"Статистика = {stat:.5f}, p = {p:.5f}\")\n",
        "\n",
        "if p > 0.05:\n",
        "    print('Не отклоняем нулевую гипотезу, разницы в переутомлении между командами нет')\n",
        "else:\n",
        "    print('Отклоняем нулевую гипотезу, выборки, вероятно, различаются')"
      ],
      "metadata": {
        "colab": {
          "base_uri": "https://localhost:8080/"
        },
        "id": "OHPKzviwtmkZ",
        "outputId": "7521cd81-996e-4e0e-bd2f-9dba36789cde"
      },
      "execution_count": null,
      "outputs": [
        {
          "output_type": "stream",
          "name": "stdout",
          "text": [
            "Статистика = 0.45124, p = 0.65486\n",
            "Не отклоняем нулевую гипотезу, разницы в переутомлении между командами нет\n"
          ]
        }
      ]
    },
    {
      "cell_type": "markdown",
      "source": [
        "Выводы:\n",
        "\n",
        "Исходя из имеющихся данных и полученных на их основании результатов статистических тестов, у нас нет оснований полагать, что есть разница между переутомлением двух команд. Статистическая разница между сверхурочной работой команды разработчиков программного обеспечения и группы тестирования не выявлена"
      ],
      "metadata": {
        "id": "ucrMfEA0TOwt"
      }
    },
    {
      "cell_type": "markdown",
      "metadata": {
        "id": "tUZelZD5GZwB"
      },
      "source": [
        "<div class=\"alert alert-info\">\n",
        "<b>Задание № 4</b>\n",
        "\n",
        "Педиатр хочет увидеть влияние потребления смеси на среднемесячную прибавку в весе у новорожденных. По этой причине она собрала данные из трех разных групп. Первая группа – дети исключительно грудного вскармливания, вторая группа – дети, которых кормят только смесью, и последняя группа – это дети, находящиеся на искусственном вскармливании и на грудном вскармливании. Эти данные приведены ниже.\n",
        "\n",
        "В соответствии с этой информацией проведите проверку гипотезы, чтобы проверить, есть ли разница между среднемесячным приростом этих трех групп, используя уровень значимости 0,05. Если есть значительная разница, выполните дальнейший анализ, чтобы найти причину разницы.\n",
        "</div>"
      ]
    },
    {
      "cell_type": "code",
      "execution_count": null,
      "metadata": {
        "id": "WYRMd6LnGZwB"
      },
      "outputs": [],
      "source": [
        "only_breast = [794.1, 716.9, 993. , 724.7, 760.9, 908.2, 659.3 , 690.8, 768.7, 717.3 , 630.7, 729.5, 714.1, 810.3, 583.5, 679.9, 865.1];\n",
        "only_formula = [898.8, 881.2, 940.2, 966.2, 957.5, 1061.7, 1046.2, 980.4, 895.6, 919.7, 1074.1, 952.5, 796.3, 859.6, 871.1 , 1047.5, 919.1 , 1160.5, 996.9];\n",
        "both = [976.4, 656.4, 861.2, 706.8, 718.5, 717.1, 759.8, 894.6, 867.6, 805.6, 765.4, 800.3, 789.9, 875.3, 740. , 799.4, 790.3, 795.2 , 823.6, 818.7, 926.8, 791.7, 948.3];"
      ]
    },
    {
      "cell_type": "code",
      "execution_count": null,
      "metadata": {
        "id": "PK8uaA2tzpRm",
        "colab": {
          "base_uri": "https://localhost:8080/",
          "height": 447
        },
        "outputId": "2369dd90-ac5b-4d7e-a287-762e27f8e48d"
      },
      "outputs": [
        {
          "output_type": "execute_result",
          "data": {
            "text/plain": [
              "<matplotlib.legend.Legend at 0x7ca453b0b7c0>"
            ]
          },
          "metadata": {},
          "execution_count": 19
        },
        {
          "output_type": "display_data",
          "data": {
            "text/plain": [
              "<Figure size 640x480 with 1 Axes>"
            ],
            "image/png": "[encoded data removed]"
          },
          "metadata": {}
        }
      ],
      "source": [
        "plt.hist(only_breast, bins=12, label = 'only_breast'); # only_breast\n",
        "plt.hist(only_formula, bins=12, label = 'only_formula');  # only_formula\n",
        "plt.hist(both, bins=12, label = 'both');  # both\n",
        "plt.legend()"
      ]
    },
    {
      "cell_type": "code",
      "source": [
        "boxprops = dict(linestyle='--', linewidth=2, color='green')\n",
        "flierprops = dict(marker='o', markerfacecolor='green', markersize=6, linestyle='none')\n",
        "plt.boxplot(only_breast, boxprops=boxprops, flierprops=flierprops)\n",
        "\n",
        "boxprops_ = dict(linestyle='-', linewidth=2, color='yellow')\n",
        "flierprops_ = dict(marker='o', markerfacecolor='yellow', markersize=6, linestyle='none')\n",
        "plt.boxplot(only_formula, boxprops=boxprops_, flierprops=flierprops_)\n",
        "\n",
        "plt.boxplot(both)"
      ],
      "metadata": {
        "colab": {
          "base_uri": "https://localhost:8080/",
          "height": 569
        },
        "id": "MSx2SRUAo2By",
        "outputId": "cc6c7fd9-3a4f-4c57-dab7-9be5f5cfc22b"
      },
      "execution_count": null,
      "outputs": [
        {
          "output_type": "execute_result",
          "data": {
            "text/plain": [
              "{'whiskers': [<matplotlib.lines.Line2D at 0x7ca453a2b1f0>,\n",
              "  <matplotlib.lines.Line2D at 0x7ca453a2b4c0>],\n",
              " 'caps': [<matplotlib.lines.Line2D at 0x7ca453a2b760>,\n",
              "  <matplotlib.lines.Line2D at 0x7ca453a2ba00>],\n",
              " 'boxes': [<matplotlib.lines.Line2D at 0x7ca453a2af50>],\n",
              " 'medians': [<matplotlib.lines.Line2D at 0x7ca453a2bca0>],\n",
              " 'fliers': [<matplotlib.lines.Line2D at 0x7ca453a2bf40>],\n",
              " 'means': []}"
            ]
          },
          "metadata": {},
          "execution_count": 20
        },
        {
          "output_type": "display_data",
          "data": {
            "text/plain": [
              "<Figure size 640x480 with 1 Axes>"
            ],
            "image/png": "[encoded data removed]"
          },
          "metadata": {}
        }
      ]
    },
    {
      "cell_type": "code",
      "source": [
        "# проверяем на нормальность с помошью функции из первого задания (тест Шапиро-Уилк)\n",
        "\n",
        "check_normality(only_breast)\n",
        "\n",
        "check_normality(only_formula)\n",
        "\n",
        "check_normality(both)"
      ],
      "metadata": {
        "colab": {
          "base_uri": "https://localhost:8080/"
        },
        "id": "g5hZeQIFnAUl",
        "outputId": "dbca3e77-80c4-4b61-87f5-ee4236cfc3d2"
      },
      "execution_count": null,
      "outputs": [
        {
          "output_type": "stream",
          "name": "stdout",
          "text": [
            "Statistics=0.95081, p-value=0.46942\n",
            "Не отклоняем нулевую гипотезу >> Данные распределены нормально\n",
            "Statistics=0.97608, p-value=0.88790\n",
            "Не отклоняем нулевую гипотезу >> Данные распределены нормально\n",
            "Statistics=0.97461, p-value=0.79730\n",
            "Не отклоняем нулевую гипотезу >> Данные распределены нормально\n"
          ]
        }
      ]
    },
    {
      "cell_type": "code",
      "source": [
        "# проверяем на нормальность с помошью функции из первого задания (# Критерий Пирсона)\n",
        "\n",
        "check_normality_(only_breast)\n",
        "\n",
        "check_normality_(only_formula)\n",
        "\n",
        "check_normality_(both)"
      ],
      "metadata": {
        "colab": {
          "base_uri": "https://localhost:8080/"
        },
        "id": "CWvKIgcCnfDO",
        "outputId": "e2027511-8704-4e59-da98-21d9f3e7cab9"
      },
      "execution_count": null,
      "outputs": [
        {
          "output_type": "stream",
          "name": "stdout",
          "text": [
            "Statistics=3.32192, p-value=0.18996\n",
            "Не отклоняем нулевую гипотезу >> Данные распределены нормально\n",
            "Statistics=0.89396, p-value=0.63956\n",
            "Не отклоняем нулевую гипотезу >> Данные распределены нормально\n",
            "Statistics=0.47287, p-value=0.78944\n",
            "Не отклоняем нулевую гипотезу >> Данные распределены нормально\n"
          ]
        }
      ]
    },
    {
      "cell_type": "markdown",
      "source": [
        "Проверка на нормальность показала, что данные распределены нормально. Для проверки гипотезы используем ANOVA"
      ],
      "metadata": {
        "id": "0Pgzsbf_nnar"
      }
    },
    {
      "cell_type": "code",
      "source": [
        "from scipy.stats import f_oneway\n",
        "\n",
        "stat_, p_ = f_oneway(only_breast, only_formula, both)\n",
        "print(f\"Статистика = {stat_:.5f}, p = {p_:.5f}\")\n",
        "\n",
        "if p_ > 0.05:\n",
        "    print('Не отклоняем нулевую гипотезу, разницы в переутомлении между командами нет')\n",
        "else:\n",
        "    print('Отклоняем нулевую гипотезу, выборки, вероятно, различаются')"
      ],
      "metadata": {
        "colab": {
          "base_uri": "https://localhost:8080/"
        },
        "id": "9PnjT_u5iJz0",
        "outputId": "ae637f56-6958-4fbd-c4dd-e6f38c0e1dab"
      },
      "execution_count": null,
      "outputs": [
        {
          "output_type": "stream",
          "name": "stdout",
          "text": [
            "Статистика = 26.70125, p = 0.00000\n",
            "Отклоняем нулевую гипотезу, выборки, вероятно, различаются\n"
          ]
        }
      ]
    },
    {
      "cell_type": "markdown",
      "source": [
        "Выводы: ANOVA показал, что группы отличаются среднемесячным приростом в зависимости от метода вскармливания. Прирост веса действительно зависит от типа вскармливания"
      ],
      "metadata": {
        "id": "H6WGM2p0yhXq"
      }
    },
    {
      "cell_type": "markdown",
      "source": [
        "Что бы далее определить, между какими конкретными группами существует статистически значимые различия, применим тест Тьюки"
      ],
      "metadata": {
        "id": "_i6gQ9n2kZb0"
      }
    },
    {
      "cell_type": "code",
      "source": [
        "# тест Тьюки\n",
        "from scipy.stats import tukey_hsd\n",
        "\n",
        "res = tukey_hsd(only_breast, only_formula, both)\n",
        "print(res)\n"
      ],
      "metadata": {
        "colab": {
          "base_uri": "https://localhost:8080/"
        },
        "id": "KH6tVNmDkYMt",
        "outputId": "7e9c0fae-d7ab-4879-eda8-726f8e4bd852"
      },
      "execution_count": null,
      "outputs": [
        {
          "output_type": "stream",
          "name": "stdout",
          "text": [
            "Tukey's HSD Pairwise Group Comparisons (95.0% Confidence Interval)\n",
            "Comparison  Statistic  p-value  Lower CI  Upper CI\n",
            " (0 - 1)   -209.392     0.000  -281.434  -137.351\n",
            " (0 - 2)    -60.129     0.100  -129.149     8.891\n",
            " (1 - 0)    209.392     0.000   137.351   281.434\n",
            " (1 - 2)    149.264     0.000    82.365   216.162\n",
            " (2 - 0)     60.129     0.100    -8.891   129.149\n",
            " (2 - 1)   -149.264     0.000  -216.162   -82.365\n",
            "\n"
          ]
        }
      ]
    },
    {
      "cell_type": "markdown",
      "source": [
        "p-value > 0,05 между группами only_breast и both. Это значит, что\n",
        "статистически значимой разницы между средними значениями данных групп нет, тогда как между группами only_breast и only_formula, а так же между only_formula и both вероятно имеется статистически значимая разница"
      ],
      "metadata": {
        "id": "aWzuRaaFuqMu"
      }
    },
    {
      "cell_type": "code",
      "source": [
        "only_breast_df = pd.DataFrame({\"only_breast\":only_breast})\n",
        "only_formula_df = pd.DataFrame({\"only_formula\":only_formula})\n",
        "both_df = pd.DataFrame({\"both\":both})\n",
        "print(only_breast_df.describe())\n",
        "print(only_formula_df.describe())\n",
        "print(both_df.describe())"
      ],
      "metadata": {
        "colab": {
          "base_uri": "https://localhost:8080/"
        },
        "id": "IJ4o3pJ6z_p8",
        "outputId": "51e8cf02-20b3-4887-e2e0-171a06fd89c1"
      },
      "execution_count": null,
      "outputs": [
        {
          "output_type": "stream",
          "name": "stdout",
          "text": [
            "       only_breast\n",
            "count    17.000000\n",
            "mean    749.823529\n",
            "std     102.007062\n",
            "min     583.500000\n",
            "25%     690.800000\n",
            "50%     724.700000\n",
            "75%     794.100000\n",
            "max     993.000000\n",
            "       only_formula\n",
            "count     19.000000\n",
            "mean     959.215789\n",
            "std       89.159004\n",
            "min      796.300000\n",
            "25%      897.200000\n",
            "50%      952.500000\n",
            "75%     1021.550000\n",
            "max     1160.500000\n",
            "             both\n",
            "count   23.000000\n",
            "mean   809.952174\n",
            "std     79.859546\n",
            "min    656.400000\n",
            "25%    762.600000\n",
            "50%    799.400000\n",
            "75%    864.400000\n",
            "max    976.400000\n"
          ]
        }
      ]
    },
    {
      "cell_type": "markdown",
      "source": [
        "p-value > 0,05 между группами only_breast и both. Это значит, что\n",
        "статистически значимой разницы между средними значениями данных групп нет, тогда как между группами only_breast и only_formula, а так же между only_formula и both вероятно имеется статистически значимая разница. Дальнейший анализ показал, что средний наилучшие показатели у группы детей, которые ходятся на искусственном вскармливании, что может свидетельствовать о том, что искусственное вскармливание более сбаланированно всравнении с естветсвенным молоком матери и содержит больше питательных веществ, необходимых грудному ребенку"
      ],
      "metadata": {
        "id": "Lbj607vV1s3P"
      }
    },
    {
      "cell_type": "markdown",
      "metadata": {
        "id": "O0LhesbhGZwH"
      },
      "source": [
        "<div class=\"alert alert-info\">\n",
        "<b>Задание № 5 (Опционально) </b>\n",
        "\n",
        "Аналитик финансовой инвестиционной компании интересуется взаимосвязью между полом и склонностью к риску. Из базы данных была взята случайная выборка из 660 клиентов. Клиенты в выборке были классифицированы в соответствии с их полом и склонностью к риску. Результат приведен в следующей таблице.\n",
        "    \n",
        "Проверьте гипотезу о том, что склонность к риску клиентов этой компании не зависит от их пола. Используйте α = 0.01.    \n",
        "</div>"
      ]
    },
    {
      "cell_type": "code",
      "execution_count": null,
      "metadata": {
        "id": "UP998NjNGZwI",
        "outputId": "b57862dd-20c7-4a89-a05a-7e6c69317a63",
        "colab": {
          "base_uri": "https://localhost:8080/"
        }
      },
      "outputs": [
        {
          "output_type": "stream",
          "name": "stdout",
          "text": [
            "Уровень риска\n",
            "    0   1   2   3    4\n",
            "Ж  53  23  30  36   88\n",
            "М  71  48  51  57  203\n"
          ]
        }
      ],
      "source": [
        "contingency_table = pd.DataFrame(\n",
        "    [\n",
        "        [53, 23, 30, 36, 88],\n",
        "        [71, 48, 51, 57, 203]\n",
        "    ],\n",
        "    #columns = ['Machine Learning', 'Data Science', 'Analytics'],\n",
        "    index = ['Ж', 'М'])\n",
        "\n",
        "print('Уровень риска')\n",
        "print(contingency_table)"
      ]
    },
    {
      "cell_type": "code",
      "execution_count": null,
      "metadata": {
        "id": "M4NyFj8jzpRo",
        "colab": {
          "base_uri": "https://localhost:8080/"
        },
        "outputId": "5474ec1c-9e56-4c4a-dc6e-0ed18ca2acf7"
      },
      "outputs": [
        {
          "output_type": "stream",
          "name": "stdout",
          "text": [
            "p-value = 0.130992, уровень значимости = 0.01\n",
            "0.13099220858734012\n",
            "На уровене значимости 0.01, мы не отвергаем нулевые гипотезы. Склонность к риску не зависит от пола.\n"
          ]
        }
      ],
      "source": [
        "chi, pval, dof, exp = st.chi2_contingency(contingency_table.values) #Критерий Пирсона (хи квадрат)\n",
        "significance = 0.01\n",
        "\n",
        "print(f\"p-value = {pval:.6f}, уровень значимости = {significance:.2f}\")\n",
        "\n",
        "print(pval)\n",
        "if pval < significance:\n",
        "    print(f\"На уровене значимости {significance:.2f}, мы отвергаем нулевые гипотезы и принимаем H1.\")\n",
        "    print('Склонность к риску зависит от пола!')\n",
        "else:\n",
        "    print(f\"На уровене значимости {significance:.2f}, мы не отвергаем нулевые гипотезы. Склонность к риску не зависит от пола.\")"
      ]
    },
    {
      "cell_type": "markdown",
      "metadata": {
        "id": "nImsQh5LGZwM"
      },
      "source": [
        "<div class=\"alert alert-info\">\n",
        "<b>Задание № 6 (Опционально)</b>\n",
        "\n",
        "Компания электронной коммерции регулярно размещает рекламу своих кампаний на YouTube, Instagram и Facebook. Однако новому менеджеру было любопытно, есть ли разница между количеством клиентов, привлеченных этими платформами. Поэтому она начала использовать Adjust — приложение, позволяющее узнать, откуда приходят ваши пользователи. Ежедневные цифры, сообщаемые Adjust для каждой платформы, приведены ниже.\n",
        "    \n",
        "В соответствии с этой информацией проведите проверку гипотез, чтобы проверить, есть ли разница между средним числом привлеченных клиентов на этих трех платформах с использованием уровня значимости 0,05. Если есть значительная разница, выполните дальнейший анализ, чтобы найти причину разницы. Прежде чем приступать к проверке гипотез, проверьте соответствующие предположения.\n",
        "</div>"
      ]
    },
    {
      "cell_type": "code",
      "execution_count": null,
      "metadata": {
        "id": "Hrhaf-J0GZwN"
      },
      "outputs": [],
      "source": [
        "youtube=[1913, 1879, 1939, 2146, 2040, 2127, 2122, 2156, 2036, 1974, 1956, 2146, 2151, 1943, 2125]\n",
        "instagram = [2305., 2355., 2203., 2231., 2185., 2420., 2386., 2410., 2340., 2349., 2241., 2396., 2244., 2267., 2281.]\n",
        "facebook = [2133., 2522., 2124., 2551., 2293., 2367., 2460., 2311., 2178., 2113., 2048., 2443., 2265., 2095., 2528.]"
      ]
    },
    {
      "cell_type": "code",
      "execution_count": null,
      "metadata": {
        "id": "InBqyq4ozpRo",
        "colab": {
          "base_uri": "https://localhost:8080/",
          "height": 447
        },
        "outputId": "53e4ae81-8884-4c34-902d-24ff5434ddb5"
      },
      "outputs": [
        {
          "output_type": "execute_result",
          "data": {
            "text/plain": [
              "<matplotlib.legend.Legend at 0x7ca453926980>"
            ]
          },
          "metadata": {},
          "execution_count": 30
        },
        {
          "output_type": "display_data",
          "data": {
            "text/plain": [
              "<Figure size 640x480 with 1 Axes>"
            ],
            "image/png": "[encoded data removed]"
          },
          "metadata": {}
        }
      ],
      "source": [
        "plt.hist(youtube, bins=20, label = 'youtube'); # only_breast\n",
        "plt.hist(instagram, bins=20, label = 'instagram');  # only_formula\n",
        "plt.hist(facebook, bins=20, label = 'facebook');  # both\n",
        "plt.legend()"
      ]
    },
    {
      "cell_type": "code",
      "source": [
        "boxprops = dict(linestyle='--', linewidth=2, color='green')\n",
        "flierprops = dict(marker='o', markerfacecolor='green', markersize=6, linestyle='none')\n",
        "plt.boxplot(youtube, boxprops=boxprops, flierprops=flierprops)\n",
        "\n",
        "boxprops_ = dict(linestyle='-', linewidth=2, color='yellow')\n",
        "flierprops_ = dict(marker='o', markerfacecolor='yellow', markersize=6, linestyle='none')\n",
        "plt.boxplot(instagram, boxprops=boxprops_, flierprops=flierprops_)\n",
        "\n",
        "plt.boxplot(facebook)"
      ],
      "metadata": {
        "colab": {
          "base_uri": "https://localhost:8080/",
          "height": 569
        },
        "id": "kpqLR1-J415Q",
        "outputId": "161779d1-4376-4d22-aebc-656de378480e"
      },
      "execution_count": null,
      "outputs": [
        {
          "output_type": "execute_result",
          "data": {
            "text/plain": [
              "{'whiskers': [<matplotlib.lines.Line2D at 0x7ca453679810>,\n",
              "  <matplotlib.lines.Line2D at 0x7ca453679ab0>],\n",
              " 'caps': [<matplotlib.lines.Line2D at 0x7ca453679d50>,\n",
              "  <matplotlib.lines.Line2D at 0x7ca453679ff0>],\n",
              " 'boxes': [<matplotlib.lines.Line2D at 0x7ca453679570>],\n",
              " 'medians': [<matplotlib.lines.Line2D at 0x7ca45367a290>],\n",
              " 'fliers': [<matplotlib.lines.Line2D at 0x7ca45367a530>],\n",
              " 'means': []}"
            ]
          },
          "metadata": {},
          "execution_count": 31
        },
        {
          "output_type": "display_data",
          "data": {
            "text/plain": [
              "<Figure size 640x480 with 1 Axes>"
            ],
            "image/png": "[encoded data removed]"
          },
          "metadata": {}
        }
      ]
    },
    {
      "cell_type": "code",
      "source": [
        "# проверяем на нормальность с помошью функции из первого задания (тест Шапиро-Уилк)\n",
        "\n",
        "check_normality(youtube)\n",
        "\n",
        "check_normality(instagram)\n",
        "\n",
        "check_normality(facebook)"
      ],
      "metadata": {
        "colab": {
          "base_uri": "https://localhost:8080/"
        },
        "id": "-fxExqop5AIf",
        "outputId": "d39407f1-23a4-442d-9c5b-97c740035882"
      },
      "execution_count": null,
      "outputs": [
        {
          "output_type": "stream",
          "name": "stdout",
          "text": [
            "Statistics=0.86503, p-value=0.02854\n",
            "Отклоняем нулевую гипотезу >> Данные распределены не нормально\n",
            "Statistics=0.94255, p-value=0.41558\n",
            "Не отклоняем нулевую гипотезу >> Данные распределены нормально\n",
            "Statistics=0.91671, p-value=0.17158\n",
            "Не отклоняем нулевую гипотезу >> Данные распределены нормально\n"
          ]
        }
      ]
    },
    {
      "cell_type": "code",
      "source": [
        "# проверяем на нормальность с помошью функции из первого задания (# Критерий Пирсона)\n",
        "\n",
        "check_normality_(youtube)\n",
        "\n",
        "check_normality_(instagram)\n",
        "\n",
        "check_normality_(facebook)"
      ],
      "metadata": {
        "colab": {
          "base_uri": "https://localhost:8080/"
        },
        "id": "Z3vnI3nA5OBZ",
        "outputId": "b9089d76-acb8-46ed-bbe1-d5ec12de841d"
      },
      "execution_count": null,
      "outputs": [
        {
          "output_type": "stream",
          "name": "stdout",
          "text": [
            "Statistics=6.24718, p-value=0.04400\n",
            "Отклоняем нулевую гипотезу >> Данные распределены не нормально\n",
            "Statistics=2.97419, p-value=0.22603\n",
            "Не отклоняем нулевую гипотезу >> Данные распределены нормально\n",
            "Statistics=4.23928, p-value=0.12007\n",
            "Не отклоняем нулевую гипотезу >> Данные распределены нормально\n"
          ]
        },
        {
          "output_type": "stream",
          "name": "stderr",
          "text": [
            "/usr/local/lib/python3.10/dist-packages/scipy/stats/_stats_py.py:1806: UserWarning: kurtosistest only valid for n>=20 ... continuing anyway, n=15\n",
            "  warnings.warn(\"kurtosistest only valid for n>=20 ... continuing \"\n"
          ]
        }
      ]
    },
    {
      "cell_type": "markdown",
      "source": [
        "Поскольку не все данные распределены нормально, то для проверки гипотезы используем тест Крускала-Уоллиса"
      ],
      "metadata": {
        "id": "8Onv5R7Fx14K"
      }
    },
    {
      "cell_type": "code",
      "source": [
        "stat1, p1 = st.kruskal(youtube, instagram, facebook)\n",
        "print(f\"Статистика = {stat1:.5f}, p = {p1:.5f}\")\n",
        "\n",
        "if p1 > 0.05:\n",
        "    print('Не отклоняем нулевую гипотезу, разницы в переутомлении между командами нет')\n",
        "else:\n",
        "    print('Отклоняем нулевую гипотезу, выборки, вероятно, различаются')"
      ],
      "metadata": {
        "colab": {
          "base_uri": "https://localhost:8080/"
        },
        "id": "4k2vvcgZ8OFV",
        "outputId": "cd026a74-8f03-4d34-e327-748ea20358ed"
      },
      "execution_count": null,
      "outputs": [
        {
          "output_type": "stream",
          "name": "stdout",
          "text": [
            "Статистика = 22.19354, p = 0.00002\n",
            "Отклоняем нулевую гипотезу, выборки, вероятно, различаются\n"
          ]
        }
      ]
    },
    {
      "cell_type": "markdown",
      "source": [
        "Поскольку это p-значение меньше 0,05, мы можем отвергнуть нулевую гипотезу о том, что нет разницы между средним числом привлеченных клиентов на этих трех платформах. У нас есть достаточно доказательств, чтобы заключить, что способ привлечения приводит к статистически значимым различиям."
      ],
      "metadata": {
        "id": "-n-KTT9IyOt1"
      }
    },
    {
      "cell_type": "markdown",
      "source": [
        "Что бы далее определить, между какими конкретными группами существует статистически значимые различия, применим тест Данна"
      ],
      "metadata": {
        "id": "h6BrFRl0yt7g"
      }
    },
    {
      "cell_type": "code",
      "source": [
        "pip install scikit-posthocs"
      ],
      "metadata": {
        "colab": {
          "base_uri": "https://localhost:8080/"
        },
        "id": "VziwZFB6-Z7E",
        "outputId": "1de322dd-902a-413d-f201-13794eaff634"
      },
      "execution_count": null,
      "outputs": [
        {
          "output_type": "stream",
          "name": "stdout",
          "text": [
            "Collecting scikit-posthocs\n",
            "  Downloading scikit_posthocs-0.9.0-py3-none-any.whl (32 kB)\n",
            "Requirement already satisfied: numpy in /usr/local/lib/python3.10/dist-packages (from scikit-posthocs) (1.25.2)\n",
            "Requirement already satisfied: scipy>=1.9.0 in /usr/local/lib/python3.10/dist-packages (from scikit-posthocs) (1.11.4)\n",
            "Requirement already satisfied: statsmodels in /usr/local/lib/python3.10/dist-packages (from scikit-posthocs) (0.14.2)\n",
            "Requirement already satisfied: pandas>=0.20.0 in /usr/local/lib/python3.10/dist-packages (from scikit-posthocs) (2.0.3)\n",
            "Requirement already satisfied: seaborn in /usr/local/lib/python3.10/dist-packages (from scikit-posthocs) (0.13.1)\n",
            "Requirement already satisfied: matplotlib in /usr/local/lib/python3.10/dist-packages (from scikit-posthocs) (3.7.1)\n",
            "Requirement already satisfied: python-dateutil>=2.8.2 in /usr/local/lib/python3.10/dist-packages (from pandas>=0.20.0->scikit-posthocs) (2.8.2)\n",
            "Requirement already satisfied: pytz>=2020.1 in /usr/local/lib/python3.10/dist-packages (from pandas>=0.20.0->scikit-posthocs) (2023.4)\n",
            "Requirement already satisfied: tzdata>=2022.1 in /usr/local/lib/python3.10/dist-packages (from pandas>=0.20.0->scikit-posthocs) (2024.1)\n",
            "Requirement already satisfied: contourpy>=1.0.1 in /usr/local/lib/python3.10/dist-packages (from matplotlib->scikit-posthocs) (1.2.1)\n",
            "Requirement already satisfied: cycler>=0.10 in /usr/local/lib/python3.10/dist-packages (from matplotlib->scikit-posthocs) (0.12.1)\n",
            "Requirement already satisfied: fonttools>=4.22.0 in /usr/local/lib/python3.10/dist-packages (from matplotlib->scikit-posthocs) (4.51.0)\n",
            "Requirement already satisfied: kiwisolver>=1.0.1 in /usr/local/lib/python3.10/dist-packages (from matplotlib->scikit-posthocs) (1.4.5)\n",
            "Requirement already satisfied: packaging>=20.0 in /usr/local/lib/python3.10/dist-packages (from matplotlib->scikit-posthocs) (24.0)\n",
            "Requirement already satisfied: pillow>=6.2.0 in /usr/local/lib/python3.10/dist-packages (from matplotlib->scikit-posthocs) (9.4.0)\n",
            "Requirement already satisfied: pyparsing>=2.3.1 in /usr/local/lib/python3.10/dist-packages (from matplotlib->scikit-posthocs) (3.1.2)\n",
            "Requirement already satisfied: patsy>=0.5.6 in /usr/local/lib/python3.10/dist-packages (from statsmodels->scikit-posthocs) (0.5.6)\n",
            "Requirement already satisfied: six in /usr/local/lib/python3.10/dist-packages (from patsy>=0.5.6->statsmodels->scikit-posthocs) (1.16.0)\n",
            "Installing collected packages: scikit-posthocs\n",
            "Successfully installed scikit-posthocs-0.9.0\n"
          ]
        }
      ]
    },
    {
      "cell_type": "code",
      "source": [
        "import scikit_posthocs as sp"
      ],
      "metadata": {
        "id": "433eK5SH_uOp"
      },
      "execution_count": null,
      "outputs": []
    },
    {
      "cell_type": "code",
      "source": [
        "data = [youtube, instagram, facebook]\n",
        "\n",
        "sp.posthoc_dunn (data, p_adjust = 'bonferroni')"
      ],
      "metadata": {
        "colab": {
          "base_uri": "https://localhost:8080/",
          "height": 143
        },
        "id": "pD-3ETrA_5zD",
        "outputId": "34ba1006-5ac2-4d90-b54b-ba51e062b4ce"
      },
      "execution_count": null,
      "outputs": [
        {
          "output_type": "execute_result",
          "data": {
            "text/plain": [
              "          1         2         3\n",
              "1  1.000000  0.000041  0.000553\n",
              "2  0.000041  1.000000  1.000000\n",
              "3  0.000553  1.000000  1.000000"
            ],
            "text/html": [
              "\n",
              "  <div id=\"df-1630eb71-56a8-459b-87f5-5c7e866b2eb8\" class=\"colab-df-container\">\n",
              "    <div>\n",
              "<style scoped>\n",
              "    .dataframe tbody tr th:only-of-type {\n",
              "        vertical-align: middle;\n",
              "    }\n",
              "\n",
              "    .dataframe tbody tr th {\n",
              "        vertical-align: top;\n",
              "    }\n",
              "\n",
              "    .dataframe thead th {\n",
              "        text-align: right;\n",
              "    }\n",
              "</style>\n",
              "<table border=\"1\" class=\"dataframe\">\n",
              "  <thead>\n",
              "    <tr style=\"text-align: right;\">\n",
              "      <th></th>\n",
              "      <th>1</th>\n",
              "      <th>2</th>\n",
              "      <th>3</th>\n",
              "    </tr>\n",
              "  </thead>\n",
              "  <tbody>\n",
              "    <tr>\n",
              "      <th>1</th>\n",
              "      <td>1.000000</td>\n",
              "      <td>0.000041</td>\n",
              "      <td>0.000553</td>\n",
              "    </tr>\n",
              "    <tr>\n",
              "      <th>2</th>\n",
              "      <td>0.000041</td>\n",
              "      <td>1.000000</td>\n",
              "      <td>1.000000</td>\n",
              "    </tr>\n",
              "    <tr>\n",
              "      <th>3</th>\n",
              "      <td>0.000553</td>\n",
              "      <td>1.000000</td>\n",
              "      <td>1.000000</td>\n",
              "    </tr>\n",
              "  </tbody>\n",
              "</table>\n",
              "</div>\n",
              "    <div class=\"colab-df-buttons\">\n",
              "\n",
              "  <div class=\"colab-df-container\">\n",
              "    <button class=\"colab-df-convert\" onclick=\"convertToInteractive('df-1630eb71-56a8-459b-87f5-5c7e866b2eb8')\"\n",
              "            title=\"Convert this dataframe to an interactive table.\"\n",
              "            style=\"display:none;\">\n",
              "\n",
              "  <svg xmlns=\"http://www.w3.org/2000/svg\" height=\"24px\" viewBox=\"0 -960 960 960\">\n",
              "    <path d=\"M120-120v-720h720v720H120Zm60-500h600v-160H180v160Zm220 220h160v-160H400v160Zm0 220h160v-160H400v160ZM180-400h160v-160H180v160Zm440 0h160v-160H620v160ZM180-180h160v-160H180v160Zm440 0h160v-160H620v160Z\"/>\n",
              "  </svg>\n",
              "    </button>\n",
              "\n",
              "  <style>\n",
              "    .colab-df-container {\n",
              "      display:flex;\n",
              "      gap: 12px;\n",
              "    }\n",
              "\n",
              "    .colab-df-convert {\n",
              "      background-color: #E8F0FE;\n",
              "      border: none;\n",
              "      border-radius: 50%;\n",
              "      cursor: pointer;\n",
              "      display: none;\n",
              "      fill: #1967D2;\n",
              "      height: 32px;\n",
              "      padding: 0 0 0 0;\n",
              "      width: 32px;\n",
              "    }\n",
              "\n",
              "    .colab-df-convert:hover {\n",
              "      background-color: #E2EBFA;\n",
              "      box-shadow: 0px 1px 2px rgba(60, 64, 67, 0.3), 0px 1px 3px 1px rgba(60, 64, 67, 0.15);\n",
              "      fill: #174EA6;\n",
              "    }\n",
              "\n",
              "    .colab-df-buttons div {\n",
              "      margin-bottom: 4px;\n",
              "    }\n",
              "\n",
              "    [theme=dark] .colab-df-convert {\n",
              "      background-color: #3B4455;\n",
              "      fill: #D2E3FC;\n",
              "    }\n",
              "\n",
              "    [theme=dark] .colab-df-convert:hover {\n",
              "      background-color: #434B5C;\n",
              "      box-shadow: 0px 1px 3px 1px rgba(0, 0, 0, 0.15);\n",
              "      filter: drop-shadow(0px 1px 2px rgba(0, 0, 0, 0.3));\n",
              "      fill: #FFFFFF;\n",
              "    }\n",
              "  </style>\n",
              "\n",
              "    <script>\n",
              "      const buttonEl =\n",
              "        document.querySelector('#df-1630eb71-56a8-459b-87f5-5c7e866b2eb8 button.colab-df-convert');\n",
              "      buttonEl.style.display =\n",
              "        google.colab.kernel.accessAllowed ? 'block' : 'none';\n",
              "\n",
              "      async function convertToInteractive(key) {\n",
              "        const element = document.querySelector('#df-1630eb71-56a8-459b-87f5-5c7e866b2eb8');\n",
              "        const dataTable =\n",
              "          await google.colab.kernel.invokeFunction('convertToInteractive',\n",
              "                                                    [key], {});\n",
              "        if (!dataTable) return;\n",
              "\n",
              "        const docLinkHtml = 'Like what you see? Visit the ' +\n",
              "          '<a target=\"_blank\" href=https://colab.research.google.com/notebooks/data_table.ipynb>data table notebook</a>'\n",
              "          + ' to learn more about interactive tables.';\n",
              "        element.innerHTML = '';\n",
              "        dataTable['output_type'] = 'display_data';\n",
              "        await google.colab.output.renderOutput(dataTable, element);\n",
              "        const docLink = document.createElement('div');\n",
              "        docLink.innerHTML = docLinkHtml;\n",
              "        element.appendChild(docLink);\n",
              "      }\n",
              "    </script>\n",
              "  </div>\n",
              "\n",
              "\n",
              "<div id=\"df-30532b2b-a442-406e-8504-a472764f8340\">\n",
              "  <button class=\"colab-df-quickchart\" onclick=\"quickchart('df-30532b2b-a442-406e-8504-a472764f8340')\"\n",
              "            title=\"Suggest charts\"\n",
              "            style=\"display:none;\">\n",
              "\n",
              "<svg xmlns=\"http://www.w3.org/2000/svg\" height=\"24px\"viewBox=\"0 0 24 24\"\n",
              "     width=\"24px\">\n",
              "    <g>\n",
              "        <path d=\"M19 3H5c-1.1 0-2 .9-2 2v14c0 1.1.9 2 2 2h14c1.1 0 2-.9 2-2V5c0-1.1-.9-2-2-2zM9 17H7v-7h2v7zm4 0h-2V7h2v10zm4 0h-2v-4h2v4z\"/>\n",
              "    </g>\n",
              "</svg>\n",
              "  </button>\n",
              "\n",
              "<style>\n",
              "  .colab-df-quickchart {\n",
              "      --bg-color: #E8F0FE;\n",
              "      --fill-color: #1967D2;\n",
              "      --hover-bg-color: #E2EBFA;\n",
              "      --hover-fill-color: #174EA6;\n",
              "      --disabled-fill-color: #AAA;\n",
              "      --disabled-bg-color: #DDD;\n",
              "  }\n",
              "\n",
              "  [theme=dark] .colab-df-quickchart {\n",
              "      --bg-color: #3B4455;\n",
              "      --fill-color: #D2E3FC;\n",
              "      --hover-bg-color: #434B5C;\n",
              "      --hover-fill-color: #FFFFFF;\n",
              "      --disabled-bg-color: #3B4455;\n",
              "      --disabled-fill-color: #666;\n",
              "  }\n",
              "\n",
              "  .colab-df-quickchart {\n",
              "    background-color: var(--bg-color);\n",
              "    border: none;\n",
              "    border-radius: 50%;\n",
              "    cursor: pointer;\n",
              "    display: none;\n",
              "    fill: var(--fill-color);\n",
              "    height: 32px;\n",
              "    padding: 0;\n",
              "    width: 32px;\n",
              "  }\n",
              "\n",
              "  .colab-df-quickchart:hover {\n",
              "    background-color: var(--hover-bg-color);\n",
              "    box-shadow: 0 1px 2px rgba(60, 64, 67, 0.3), 0 1px 3px 1px rgba(60, 64, 67, 0.15);\n",
              "    fill: var(--button-hover-fill-color);\n",
              "  }\n",
              "\n",
              "  .colab-df-quickchart-complete:disabled,\n",
              "  .colab-df-quickchart-complete:disabled:hover {\n",
              "    background-color: var(--disabled-bg-color);\n",
              "    fill: var(--disabled-fill-color);\n",
              "    box-shadow: none;\n",
              "  }\n",
              "\n",
              "  .colab-df-spinner {\n",
              "    border: 2px solid var(--fill-color);\n",
              "    border-color: transparent;\n",
              "    border-bottom-color: var(--fill-color);\n",
              "    animation:\n",
              "      spin 1s steps(1) infinite;\n",
              "  }\n",
              "\n",
              "  @keyframes spin {\n",
              "    0% {\n",
              "      border-color: transparent;\n",
              "      border-bottom-color: var(--fill-color);\n",
              "      border-left-color: var(--fill-color);\n",
              "    }\n",
              "    20% {\n",
              "      border-color: transparent;\n",
              "      border-left-color: var(--fill-color);\n",
              "      border-top-color: var(--fill-color);\n",
              "    }\n",
              "    30% {\n",
              "      border-color: transparent;\n",
              "      border-left-color: var(--fill-color);\n",
              "      border-top-color: var(--fill-color);\n",
              "      border-right-color: var(--fill-color);\n",
              "    }\n",
              "    40% {\n",
              "      border-color: transparent;\n",
              "      border-right-color: var(--fill-color);\n",
              "      border-top-color: var(--fill-color);\n",
              "    }\n",
              "    60% {\n",
              "      border-color: transparent;\n",
              "      border-right-color: var(--fill-color);\n",
              "    }\n",
              "    80% {\n",
              "      border-color: transparent;\n",
              "      border-right-color: var(--fill-color);\n",
              "      border-bottom-color: var(--fill-color);\n",
              "    }\n",
              "    90% {\n",
              "      border-color: transparent;\n",
              "      border-bottom-color: var(--fill-color);\n",
              "    }\n",
              "  }\n",
              "</style>\n",
              "\n",
              "  <script>\n",
              "    async function quickchart(key) {\n",
              "      const quickchartButtonEl =\n",
              "        document.querySelector('#' + key + ' button');\n",
              "      quickchartButtonEl.disabled = true;  // To prevent multiple clicks.\n",
              "      quickchartButtonEl.classList.add('colab-df-spinner');\n",
              "      try {\n",
              "        const charts = await google.colab.kernel.invokeFunction(\n",
              "            'suggestCharts', [key], {});\n",
              "      } catch (error) {\n",
              "        console.error('Error during call to suggestCharts:', error);\n",
              "      }\n",
              "      quickchartButtonEl.classList.remove('colab-df-spinner');\n",
              "      quickchartButtonEl.classList.add('colab-df-quickchart-complete');\n",
              "    }\n",
              "    (() => {\n",
              "      let quickchartButtonEl =\n",
              "        document.querySelector('#df-30532b2b-a442-406e-8504-a472764f8340 button');\n",
              "      quickchartButtonEl.style.display =\n",
              "        google.colab.kernel.accessAllowed ? 'block' : 'none';\n",
              "    })();\n",
              "  </script>\n",
              "</div>\n",
              "    </div>\n",
              "  </div>\n"
            ],
            "application/vnd.google.colaboratory.intrinsic+json": {
              "type": "dataframe",
              "summary": "{\n  \"name\": \"sp\",\n  \"rows\": 3,\n  \"fields\": [\n    {\n      \"column\": 1,\n      \"properties\": {\n        \"dtype\": \"number\",\n        \"std\": 0.5771789024247311,\n        \"min\": 4.0628703281588664e-05,\n        \"max\": 1.0,\n        \"num_unique_values\": 3,\n        \"samples\": [\n          1.0,\n          4.0628703281588664e-05,\n          0.0005532002895079546\n        ],\n        \"semantic_type\": \"\",\n        \"description\": \"\"\n      }\n    },\n    {\n      \"column\": 2,\n      \"properties\": {\n        \"dtype\": \"number\",\n        \"std\": 0.5773268121968493,\n        \"min\": 4.0628703281588664e-05,\n        \"max\": 1.0,\n        \"num_unique_values\": 2,\n        \"samples\": [\n          1.0,\n          4.0628703281588664e-05\n        ],\n        \"semantic_type\": \"\",\n        \"description\": \"\"\n      }\n    },\n    {\n      \"column\": 3,\n      \"properties\": {\n        \"dtype\": \"number\",\n        \"std\": 0.5770308788535625,\n        \"min\": 0.0005532002895079546,\n        \"max\": 1.0,\n        \"num_unique_values\": 2,\n        \"samples\": [\n          1.0,\n          0.0005532002895079546\n        ],\n        \"semantic_type\": \"\",\n        \"description\": \"\"\n      }\n    }\n  ]\n}"
            }
          },
          "metadata": {},
          "execution_count": 45
        }
      ]
    },
    {
      "cell_type": "markdown",
      "source": [
        "По результатам теста Данна мы можем наблюдать следующее:\n",
        "\n",
        "Скорректированное значение p для разницы между youtube, instagram составляет 0.000041.\n",
        "\n",
        "Скорректированное значение p для разницы между youtube и facebook составляет 0.000553.\n",
        "\n",
        "Скорректированное значение p для разницы между instagram и facebook составляет 1.000000.\n",
        "\n",
        "Таким образом, instagram и facebook статистически не различаются друг от друга при α = 0,05, тогда как youtube статистически отличается как от instagram, так и от facebook."
      ],
      "metadata": {
        "id": "Bl02ZmcT0biR"
      }
    },
    {
      "cell_type": "code",
      "source": [
        "chanels_df = pd.DataFrame({\"youtube\":youtube,\n",
        "                         \"instagram\":instagram,\n",
        "                         \"facebook\":facebook})\n",
        "chanels_df.describe()"
      ],
      "metadata": {
        "colab": {
          "base_uri": "https://localhost:8080/",
          "height": 300
        },
        "id": "zOdJj3Ou6cYp",
        "outputId": "873d324c-6d91-44f8-a3b5-8582a1523d13"
      },
      "execution_count": null,
      "outputs": [
        {
          "output_type": "execute_result",
          "data": {
            "text/plain": [
              "           youtube    instagram     facebook\n",
              "count    15.000000    15.000000    15.000000\n",
              "mean   2043.533333  2307.533333  2295.400000\n",
              "std     100.948266    77.815594   175.281732\n",
              "min    1879.000000  2185.000000  2048.000000\n",
              "25%    1949.500000  2242.500000  2128.500000\n",
              "50%    2040.000000  2305.000000  2293.000000\n",
              "75%    2136.500000  2370.500000  2451.500000\n",
              "max    2156.000000  2420.000000  2551.000000"
            ],
            "text/html": [
              "\n",
              "  <div id=\"df-c2ab353c-600a-448f-8cf4-29bd527f966a\" class=\"colab-df-container\">\n",
              "    <div>\n",
              "<style scoped>\n",
              "    .dataframe tbody tr th:only-of-type {\n",
              "        vertical-align: middle;\n",
              "    }\n",
              "\n",
              "    .dataframe tbody tr th {\n",
              "        vertical-align: top;\n",
              "    }\n",
              "\n",
              "    .dataframe thead th {\n",
              "        text-align: right;\n",
              "    }\n",
              "</style>\n",
              "<table border=\"1\" class=\"dataframe\">\n",
              "  <thead>\n",
              "    <tr style=\"text-align: right;\">\n",
              "      <th></th>\n",
              "      <th>youtube</th>\n",
              "      <th>instagram</th>\n",
              "      <th>facebook</th>\n",
              "    </tr>\n",
              "  </thead>\n",
              "  <tbody>\n",
              "    <tr>\n",
              "      <th>count</th>\n",
              "      <td>15.000000</td>\n",
              "      <td>15.000000</td>\n",
              "      <td>15.000000</td>\n",
              "    </tr>\n",
              "    <tr>\n",
              "      <th>mean</th>\n",
              "      <td>2043.533333</td>\n",
              "      <td>2307.533333</td>\n",
              "      <td>2295.400000</td>\n",
              "    </tr>\n",
              "    <tr>\n",
              "      <th>std</th>\n",
              "      <td>100.948266</td>\n",
              "      <td>77.815594</td>\n",
              "      <td>175.281732</td>\n",
              "    </tr>\n",
              "    <tr>\n",
              "      <th>min</th>\n",
              "      <td>1879.000000</td>\n",
              "      <td>2185.000000</td>\n",
              "      <td>2048.000000</td>\n",
              "    </tr>\n",
              "    <tr>\n",
              "      <th>25%</th>\n",
              "      <td>1949.500000</td>\n",
              "      <td>2242.500000</td>\n",
              "      <td>2128.500000</td>\n",
              "    </tr>\n",
              "    <tr>\n",
              "      <th>50%</th>\n",
              "      <td>2040.000000</td>\n",
              "      <td>2305.000000</td>\n",
              "      <td>2293.000000</td>\n",
              "    </tr>\n",
              "    <tr>\n",
              "      <th>75%</th>\n",
              "      <td>2136.500000</td>\n",
              "      <td>2370.500000</td>\n",
              "      <td>2451.500000</td>\n",
              "    </tr>\n",
              "    <tr>\n",
              "      <th>max</th>\n",
              "      <td>2156.000000</td>\n",
              "      <td>2420.000000</td>\n",
              "      <td>2551.000000</td>\n",
              "    </tr>\n",
              "  </tbody>\n",
              "</table>\n",
              "</div>\n",
              "    <div class=\"colab-df-buttons\">\n",
              "\n",
              "  <div class=\"colab-df-container\">\n",
              "    <button class=\"colab-df-convert\" onclick=\"convertToInteractive('df-c2ab353c-600a-448f-8cf4-29bd527f966a')\"\n",
              "            title=\"Convert this dataframe to an interactive table.\"\n",
              "            style=\"display:none;\">\n",
              "\n",
              "  <svg xmlns=\"http://www.w3.org/2000/svg\" height=\"24px\" viewBox=\"0 -960 960 960\">\n",
              "    <path d=\"M120-120v-720h720v720H120Zm60-500h600v-160H180v160Zm220 220h160v-160H400v160Zm0 220h160v-160H400v160ZM180-400h160v-160H180v160Zm440 0h160v-160H620v160ZM180-180h160v-160H180v160Zm440 0h160v-160H620v160Z\"/>\n",
              "  </svg>\n",
              "    </button>\n",
              "\n",
              "  <style>\n",
              "    .colab-df-container {\n",
              "      display:flex;\n",
              "      gap: 12px;\n",
              "    }\n",
              "\n",
              "    .colab-df-convert {\n",
              "      background-color: #E8F0FE;\n",
              "      border: none;\n",
              "      border-radius: 50%;\n",
              "      cursor: pointer;\n",
              "      display: none;\n",
              "      fill: #1967D2;\n",
              "      height: 32px;\n",
              "      padding: 0 0 0 0;\n",
              "      width: 32px;\n",
              "    }\n",
              "\n",
              "    .colab-df-convert:hover {\n",
              "      background-color: #E2EBFA;\n",
              "      box-shadow: 0px 1px 2px rgba(60, 64, 67, 0.3), 0px 1px 3px 1px rgba(60, 64, 67, 0.15);\n",
              "      fill: #174EA6;\n",
              "    }\n",
              "\n",
              "    .colab-df-buttons div {\n",
              "      margin-bottom: 4px;\n",
              "    }\n",
              "\n",
              "    [theme=dark] .colab-df-convert {\n",
              "      background-color: #3B4455;\n",
              "      fill: #D2E3FC;\n",
              "    }\n",
              "\n",
              "    [theme=dark] .colab-df-convert:hover {\n",
              "      background-color: #434B5C;\n",
              "      box-shadow: 0px 1px 3px 1px rgba(0, 0, 0, 0.15);\n",
              "      filter: drop-shadow(0px 1px 2px rgba(0, 0, 0, 0.3));\n",
              "      fill: #FFFFFF;\n",
              "    }\n",
              "  </style>\n",
              "\n",
              "    <script>\n",
              "      const buttonEl =\n",
              "        document.querySelector('#df-c2ab353c-600a-448f-8cf4-29bd527f966a button.colab-df-convert');\n",
              "      buttonEl.style.display =\n",
              "        google.colab.kernel.accessAllowed ? 'block' : 'none';\n",
              "\n",
              "      async function convertToInteractive(key) {\n",
              "        const element = document.querySelector('#df-c2ab353c-600a-448f-8cf4-29bd527f966a');\n",
              "        const dataTable =\n",
              "          await google.colab.kernel.invokeFunction('convertToInteractive',\n",
              "                                                    [key], {});\n",
              "        if (!dataTable) return;\n",
              "\n",
              "        const docLinkHtml = 'Like what you see? Visit the ' +\n",
              "          '<a target=\"_blank\" href=https://colab.research.google.com/notebooks/data_table.ipynb>data table notebook</a>'\n",
              "          + ' to learn more about interactive tables.';\n",
              "        element.innerHTML = '';\n",
              "        dataTable['output_type'] = 'display_data';\n",
              "        await google.colab.output.renderOutput(dataTable, element);\n",
              "        const docLink = document.createElement('div');\n",
              "        docLink.innerHTML = docLinkHtml;\n",
              "        element.appendChild(docLink);\n",
              "      }\n",
              "    </script>\n",
              "  </div>\n",
              "\n",
              "\n",
              "<div id=\"df-23cdfb18-aeb5-4c7d-8480-a49131c51718\">\n",
              "  <button class=\"colab-df-quickchart\" onclick=\"quickchart('df-23cdfb18-aeb5-4c7d-8480-a49131c51718')\"\n",
              "            title=\"Suggest charts\"\n",
              "            style=\"display:none;\">\n",
              "\n",
              "<svg xmlns=\"http://www.w3.org/2000/svg\" height=\"24px\"viewBox=\"0 0 24 24\"\n",
              "     width=\"24px\">\n",
              "    <g>\n",
              "        <path d=\"M19 3H5c-1.1 0-2 .9-2 2v14c0 1.1.9 2 2 2h14c1.1 0 2-.9 2-2V5c0-1.1-.9-2-2-2zM9 17H7v-7h2v7zm4 0h-2V7h2v10zm4 0h-2v-4h2v4z\"/>\n",
              "    </g>\n",
              "</svg>\n",
              "  </button>\n",
              "\n",
              "<style>\n",
              "  .colab-df-quickchart {\n",
              "      --bg-color: #E8F0FE;\n",
              "      --fill-color: #1967D2;\n",
              "      --hover-bg-color: #E2EBFA;\n",
              "      --hover-fill-color: #174EA6;\n",
              "      --disabled-fill-color: #AAA;\n",
              "      --disabled-bg-color: #DDD;\n",
              "  }\n",
              "\n",
              "  [theme=dark] .colab-df-quickchart {\n",
              "      --bg-color: #3B4455;\n",
              "      --fill-color: #D2E3FC;\n",
              "      --hover-bg-color: #434B5C;\n",
              "      --hover-fill-color: #FFFFFF;\n",
              "      --disabled-bg-color: #3B4455;\n",
              "      --disabled-fill-color: #666;\n",
              "  }\n",
              "\n",
              "  .colab-df-quickchart {\n",
              "    background-color: var(--bg-color);\n",
              "    border: none;\n",
              "    border-radius: 50%;\n",
              "    cursor: pointer;\n",
              "    display: none;\n",
              "    fill: var(--fill-color);\n",
              "    height: 32px;\n",
              "    padding: 0;\n",
              "    width: 32px;\n",
              "  }\n",
              "\n",
              "  .colab-df-quickchart:hover {\n",
              "    background-color: var(--hover-bg-color);\n",
              "    box-shadow: 0 1px 2px rgba(60, 64, 67, 0.3), 0 1px 3px 1px rgba(60, 64, 67, 0.15);\n",
              "    fill: var(--button-hover-fill-color);\n",
              "  }\n",
              "\n",
              "  .colab-df-quickchart-complete:disabled,\n",
              "  .colab-df-quickchart-complete:disabled:hover {\n",
              "    background-color: var(--disabled-bg-color);\n",
              "    fill: var(--disabled-fill-color);\n",
              "    box-shadow: none;\n",
              "  }\n",
              "\n",
              "  .colab-df-spinner {\n",
              "    border: 2px solid var(--fill-color);\n",
              "    border-color: transparent;\n",
              "    border-bottom-color: var(--fill-color);\n",
              "    animation:\n",
              "      spin 1s steps(1) infinite;\n",
              "  }\n",
              "\n",
              "  @keyframes spin {\n",
              "    0% {\n",
              "      border-color: transparent;\n",
              "      border-bottom-color: var(--fill-color);\n",
              "      border-left-color: var(--fill-color);\n",
              "    }\n",
              "    20% {\n",
              "      border-color: transparent;\n",
              "      border-left-color: var(--fill-color);\n",
              "      border-top-color: var(--fill-color);\n",
              "    }\n",
              "    30% {\n",
              "      border-color: transparent;\n",
              "      border-left-color: var(--fill-color);\n",
              "      border-top-color: var(--fill-color);\n",
              "      border-right-color: var(--fill-color);\n",
              "    }\n",
              "    40% {\n",
              "      border-color: transparent;\n",
              "      border-right-color: var(--fill-color);\n",
              "      border-top-color: var(--fill-color);\n",
              "    }\n",
              "    60% {\n",
              "      border-color: transparent;\n",
              "      border-right-color: var(--fill-color);\n",
              "    }\n",
              "    80% {\n",
              "      border-color: transparent;\n",
              "      border-right-color: var(--fill-color);\n",
              "      border-bottom-color: var(--fill-color);\n",
              "    }\n",
              "    90% {\n",
              "      border-color: transparent;\n",
              "      border-bottom-color: var(--fill-color);\n",
              "    }\n",
              "  }\n",
              "</style>\n",
              "\n",
              "  <script>\n",
              "    async function quickchart(key) {\n",
              "      const quickchartButtonEl =\n",
              "        document.querySelector('#' + key + ' button');\n",
              "      quickchartButtonEl.disabled = true;  // To prevent multiple clicks.\n",
              "      quickchartButtonEl.classList.add('colab-df-spinner');\n",
              "      try {\n",
              "        const charts = await google.colab.kernel.invokeFunction(\n",
              "            'suggestCharts', [key], {});\n",
              "      } catch (error) {\n",
              "        console.error('Error during call to suggestCharts:', error);\n",
              "      }\n",
              "      quickchartButtonEl.classList.remove('colab-df-spinner');\n",
              "      quickchartButtonEl.classList.add('colab-df-quickchart-complete');\n",
              "    }\n",
              "    (() => {\n",
              "      let quickchartButtonEl =\n",
              "        document.querySelector('#df-23cdfb18-aeb5-4c7d-8480-a49131c51718 button');\n",
              "      quickchartButtonEl.style.display =\n",
              "        google.colab.kernel.accessAllowed ? 'block' : 'none';\n",
              "    })();\n",
              "  </script>\n",
              "</div>\n",
              "    </div>\n",
              "  </div>\n"
            ],
            "application/vnd.google.colaboratory.intrinsic+json": {
              "type": "dataframe",
              "summary": "{\n  \"name\": \"chanels_df\",\n  \"rows\": 8,\n  \"fields\": [\n    {\n      \"column\": \"youtube\",\n      \"properties\": {\n        \"dtype\": \"number\",\n        \"std\": 919.465697511746,\n        \"min\": 15.0,\n        \"max\": 2156.0,\n        \"num_unique_values\": 8,\n        \"samples\": [\n          2043.5333333333333,\n          2040.0,\n          15.0\n        ],\n        \"semantic_type\": \"\",\n        \"description\": \"\"\n      }\n    },\n    {\n      \"column\": \"instagram\",\n      \"properties\": {\n        \"dtype\": \"number\",\n        \"std\": 1048.1453812835198,\n        \"min\": 15.0,\n        \"max\": 2420.0,\n        \"num_unique_values\": 8,\n        \"samples\": [\n          2307.5333333333333,\n          2305.0,\n          15.0\n        ],\n        \"semantic_type\": \"\",\n        \"description\": \"\"\n      }\n    },\n    {\n      \"column\": \"facebook\",\n      \"properties\": {\n        \"dtype\": \"number\",\n        \"std\": 1031.4911832481966,\n        \"min\": 15.0,\n        \"max\": 2551.0,\n        \"num_unique_values\": 8,\n        \"samples\": [\n          2295.4,\n          2293.0,\n          15.0\n        ],\n        \"semantic_type\": \"\",\n        \"description\": \"\"\n      }\n    }\n  ]\n}"
            }
          },
          "metadata": {},
          "execution_count": 37
        }
      ]
    },
    {
      "cell_type": "markdown",
      "source": [
        "Тест Крускала-Уоллиса показал, что есть статистически значимая разница между средним числом привлеченных клиентов на трех платформах (youtube, instagram, facebook).\n",
        "\n",
        "Тест Данна показал, что instagram и facebook статистически не различаются друг от друга при α = 0,05, тогда как youtube статистически отличается как от instagram, так и от facebook\n",
        "\n",
        "Анализ показывает, что youtube дает довольно меньший охват привлечения клиентов по сравнению с instagram и facebook и в дальнейшем затраты на него могут быть уменьшены, тогда как на instagram и facebook увеличены"
      ],
      "metadata": {
        "id": "mWiNMSVD7c_C"
      }
    }
  ],
  "metadata": {
    "colab": {
      "provenance": [],
      "include_colab_link": true
    },
    "kernelspec": {
      "display_name": "Python 3 (ipykernel)",
      "language": "python",
      "name": "python3"
    },
    "language_info": {
      "codemirror_mode": {
        "name": "ipython",
        "version": 3
      },
      "file_extension": ".py",
      "mimetype": "text/x-python",
      "name": "python",
      "nbconvert_exporter": "python",
      "pygments_lexer": "ipython3",
      "version": "3.10.9"
    },
    "toc": {
      "base_numbering": 1,
      "nav_menu": {},
      "number_sections": true,
      "sideBar": true,
      "skip_h1_title": false,
      "title_cell": "Table of Contents",
      "title_sidebar": "Contents",
      "toc_cell": false,
      "toc_position": {},
      "toc_section_display": true,
      "toc_window_display": false
    }
  },
  "nbformat": 4,
  "nbformat_minor": 0
}